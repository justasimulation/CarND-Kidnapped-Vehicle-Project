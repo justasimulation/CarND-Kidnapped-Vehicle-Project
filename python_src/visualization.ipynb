{
 "cells": [
  {
   "cell_type": "code",
   "execution_count": 2,
   "metadata": {
    "collapsed": false,
    "scrolled": true
   },
   "outputs": [],
   "source": [
    "import pandas as pd\n",
    "import matplotlib.pyplot as plt\n",
    "import numpy as np\n",
    "\n",
    "padding = 10\n",
    "gt_tail = 50\n",
    "title = \"{} particles\"\n",
    "\n",
    "gt= pd.read_csv(\"gt_data.txt\", delimiter=\" \", names=[\"x\", \"y\", \"id\"])\n",
    "map = pd.read_csv(\"map_data.txt\", delimiter=\"\\t\", names=[\"x\", \"y\", \"id\"])\n",
    "\n",
    "def show_plot(idx):\n",
    "\n",
    "    plt.clf()\n",
    "    plt.scatter(map[\"x\"], map[\"y\"], color=\"orange\")\n",
    "    \n",
    "    column_names = [\"x\", \"y\", \"theta\", \"id\"]\n",
    "    particles = pd.read_csv(\"../output/particles{}.txt\".format(idx), delimiter=\" \", names=column_names)\n",
    "    plt.scatter(particles[\"x\"], particles[\"y\"], color=\"r\")\n",
    "    \n",
    "    gt_prev = gt.iloc[:idx]\n",
    "    gt_prev = gt_prev.iloc[-gt_tail:]\n",
    "    \n",
    "    gt_cur = gt.iloc[idx]\n",
    "    x = gt_cur[\"x\"]\n",
    "    y = gt_cur[\"y\"]\n",
    "    \n",
    "    plt.scatter(gt_prev[\"x\"], gt_prev[\"y\"], color=\"g\")\n",
    "    plt.scatter(gt_cur[\"x\"], gt_cur[\"y\"], color=\"b\")\n",
    "    \n",
    "    plt.title(\"{} particles\".format(len(particles)))\n",
    "    \n",
    "    plt.axis((x-padding, x+padding, y-padding, y+padding))\n",
    "    plt.savefig(\"../output_gif/image_%04d.png\" % idx, format=\"PNG\")\n",
    "    \n",
    "for i in range(len(gt)):\n",
    "    show_plot(i)\n",
    "    \n",
    "\n"
   ]
  },
  {
   "cell_type": "code",
   "execution_count": 15,
   "metadata": {
    "collapsed": false
   },
   "outputs": [],
   "source": [
    "import imageio\n",
    "import glob\n",
    "n_per_image = 4\n",
    "filenames = glob.glob(\"../output_gif/*.png\") \n",
    "with imageio.get_writer('../movie.gif', mode='I') as writer:\n",
    "    for filename in filenames:\n",
    "        image = imageio.imread(filename)\n",
    "        for i in range(n_per_image):\n",
    "            writer.append_data(image)"
   ]
  },
  {
   "cell_type": "code",
   "execution_count": null,
   "metadata": {
    "collapsed": true
   },
   "outputs": [],
   "source": []
  },
  {
   "cell_type": "code",
   "execution_count": null,
   "metadata": {
    "collapsed": true
   },
   "outputs": [],
   "source": []
  }
 ],
 "metadata": {
  "anaconda-cloud": {},
  "kernelspec": {
   "display_name": "Python [conda root]",
   "language": "python",
   "name": "conda-root-py"
  },
  "language_info": {
   "codemirror_mode": {
    "name": "ipython",
    "version": 3
   },
   "file_extension": ".py",
   "mimetype": "text/x-python",
   "name": "python",
   "nbconvert_exporter": "python",
   "pygments_lexer": "ipython3",
   "version": "3.5.2"
  }
 },
 "nbformat": 4,
 "nbformat_minor": 1
}
