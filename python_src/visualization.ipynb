{
 "cells": [
  {
   "cell_type": "code",
   "execution_count": 2,
   "metadata": {
    "collapsed": false,
    "scrolled": true
   },
   "outputs": [],
   "source": [
    "# for each set of particles (at each time step) creates a plot of groundtruth point\n",
    "# and particles around it and saves it to file\n",
    "\n",
    "\n",
    "import pandas as pd\n",
    "import matplotlib.pyplot as plt\n",
    "import numpy as np\n",
    "\n",
    "# the plot window is ground_truth_coord -+ padding\n",
    "padding = 10\n",
    "# how many previous ground truth points to draw\n",
    "gt_tail = 50\n",
    "# plot title showing number of particles\n",
    "title = \"{} particles\"\n",
    "\n",
    "# ground truth data\n",
    "gt= pd.read_csv(\"gt_data.txt\", delimiter=\" \", names=[\"x\", \"y\", \"id\"])\n",
    "# map data to show landmarks\n",
    "map = pd.read_csv(\"map_data.txt\", delimiter=\"\\t\", names=[\"x\", \"y\", \"id\"])\n",
    "\n",
    "def save_plot(idx):\n",
    "    plt.clf()\n",
    "    \n",
    "    # plot landmarks\n",
    "    plt.scatter(map[\"x\"], map[\"y\"], color=\"orange\")\n",
    "    \n",
    "    # plot particles\n",
    "    column_names = [\"x\", \"y\", \"theta\", \"id\"]\n",
    "    particles = pd.read_csv(\"../output/particles{}.txt\".format(idx), delimiter=\" \", names=column_names)\n",
    "    plt.scatter(particles[\"x\"], particles[\"y\"], color=\"r\")\n",
    "    \n",
    "    # subset gt_tail previous ground truth points\n",
    "    gt_prev = gt.iloc[:idx]\n",
    "    gt_prev = gt_prev.iloc[-gt_tail:]\n",
    "    \n",
    "    # subset current ground truth point\n",
    "    gt_cur = gt.iloc[idx]\n",
    "    x = gt_cur[\"x\"]\n",
    "    y = gt_cur[\"y\"]\n",
    "    \n",
    "    # plot gt_tail previous ground truth points\n",
    "    plt.scatter(gt_prev[\"x\"], gt_prev[\"y\"], color=\"g\")\n",
    "    # plot current ground truth point\n",
    "    plt.scatter(gt_cur[\"x\"], gt_cur[\"y\"], color=\"b\")\n",
    "    \n",
    "    # plot title\n",
    "    plt.title(\"{} particles\".format(len(particles)))\n",
    "    \n",
    "    # set axis so the window is centered around ground truth point\n",
    "    plt.axis((x-padding, x+padding, y-padding, y+padding))\n",
    "    \n",
    "    # save file\n",
    "    plt.savefig(\"../output_gif/image_%04d.png\" % idx, format=\"PNG\")\n",
    "    \n",
    "# for each ground truth point create and save the plot\n",
    "for i in range(len(gt)):\n",
    "    save_plot(i)\n",
    "    \n",
    "\n"
   ]
  },
  {
   "cell_type": "code",
   "execution_count": 15,
   "metadata": {
    "collapsed": false
   },
   "outputs": [],
   "source": []
  },
  {
   "cell_type": "code",
   "execution_count": null,
   "metadata": {
    "collapsed": true
   },
   "outputs": [],
   "source": []
  },
  {
   "cell_type": "code",
   "execution_count": null,
   "metadata": {
    "collapsed": true
   },
   "outputs": [],
   "source": []
  }
 ],
 "metadata": {
  "anaconda-cloud": {},
  "kernelspec": {
   "display_name": "Python [conda root]",
   "language": "python",
   "name": "conda-root-py"
  },
  "language_info": {
   "codemirror_mode": {
    "name": "ipython",
    "version": 3
   },
   "file_extension": ".py",
   "mimetype": "text/x-python",
   "name": "python",
   "nbconvert_exporter": "python",
   "pygments_lexer": "ipython3",
   "version": "3.5.2"
  }
 },
 "nbformat": 4,
 "nbformat_minor": 1
}
